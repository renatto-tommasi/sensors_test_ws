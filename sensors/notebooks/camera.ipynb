{
 "cells": [
  {
   "cell_type": "markdown",
   "metadata": {},
   "source": [
    "# ROS Camera Subscriber Example\n",
    "\n",
    "This notebook demonstrates how to subscribe to a ROS camera topic and display the images in Jupyter."
   ]
  },
  {
   "cell_type": "code",
   "execution_count": 5,
   "metadata": {},
   "outputs": [],
   "source": [
    "# Import necessary libraries\n",
    "import rospy\n",
    "from sensor_msgs.msg import Image\n",
    "from cv_bridge import CvBridge\n",
    "import cv2\n",
    "import numpy as np\n",
    "import matplotlib.pyplot as plt\n",
    "from IPython.display import clear_output\n",
    "%matplotlib inline"
   ]
  },
  {
   "cell_type": "code",
   "execution_count": 6,
   "metadata": {},
   "outputs": [],
   "source": [
    "# Initialize ROS node\n",
    "rospy.init_node('jupyter_camera_subscriber', anonymous=True)\n",
    "bridge = CvBridge()\n",
    "\n",
    "# Create a variable to store the latest image\n",
    "latest_image = None\n",
    "\n",
    "# Callback function for the image subscriber\n",
    "def image_callback(msg):\n",
    "    global latest_image\n",
    "    try:\n",
    "        # Convert ROS image message to OpenCV image\n",
    "        latest_image = bridge.imgmsg_to_cv2(msg, \"bgr8\")\n",
    "    except Exception as e:\n",
    "        print(e)"
   ]
  },
  {
   "cell_type": "code",
   "execution_count": 7,
   "metadata": {},
   "outputs": [
    {
     "name": "stdout",
     "output_type": "stream",
     "text": [
      "Subscribed to camera topic. Waiting for images...\n",
      "If you need to change the topic, modify the subscriber above.\n"
     ]
    }
   ],
   "source": [
    "# Create subscriber - replace 'camera/image_raw' with your actual camera topic\n",
    "image_sub = rospy.Subscriber('camera/image_raw', Image, image_callback)\n",
    "\n",
    "print(f\"Subscribed to camera topic. Waiting for images...\")\n",
    "print(f\"If you need to change the topic, modify the subscriber above.\")"
   ]
  },
  {
   "cell_type": "code",
   "execution_count": null,
   "metadata": {},
   "outputs": [],
   "source": [
    "# Display the latest image (run this cell repeatedly to update the display)\n",
    "def display_image():\n",
    "    if latest_image is not None:\n",
    "        plt.figure(figsize=(10, 8))\n",
    "        plt.imshow(cv2.cvtColor(latest_image, cv2.COLOR_BGR2RGB))\n",
    "        plt.axis('off')\n",
    "        plt.show()\n",
    "    else:\n",
    "        print(\"No image received yet\")\n",
    "\n",
    "display_image()"
   ]
  },
  {
   "cell_type": "code",
   "execution_count": null,
   "metadata": {},
   "outputs": [],
   "source": [
    "# Function to continuously display images (run for a live feed)\n",
    "import time\n",
    "\n",
    "def display_continuous(seconds=10):\n",
    "    \"\"\"Display camera feed continuously for specified seconds\"\"\"\n",
    "    end_time = time.time() + seconds\n",
    "    \n",
    "    while time.time() < end_time:\n",
    "        if latest_image is not None:\n",
    "            clear_output(wait=True)\n",
    "            plt.figure(figsize=(10, 8))\n",
    "            plt.imshow(cv2.cvtColor(latest_image, cv2.COLOR_BGR2RGB))\n",
    "            plt.axis('off')\n",
    "            plt.show()\n",
    "        else:\n",
    "            clear_output(wait=True)\n",
    "            print(\"No image received yet\")\n",
    "        time.sleep(0.1)\n",
    "\n",
    "# Run for 10 seconds\n",
    "# display_continuous(10)"
   ]
  },
  {
   "cell_type": "code",
   "execution_count": null,
   "metadata": {},
   "outputs": [],
   "source": [
    "# Shutdown the subscriber when done\n",
    "# Uncomment to run when finished\n",
    "# image_sub.unregister()\n",
    "# rospy.signal_shutdown('Notebook finished')"
   ]
  }
 ],
 "metadata": {
  "kernelspec": {
   "display_name": "Python 3 (ipykernel)",
   "language": "python",
   "name": "python3"
  },
  "language_info": {
   "codemirror_mode": {
    "name": "ipython",
    "version": 3
   },
   "file_extension": ".py",
   "mimetype": "text/x-python",
   "name": "python",
   "nbconvert_exporter": "python",
   "pygments_lexer": "ipython3",
   "version": "3.8.10"
  }
 },
 "nbformat": 4,
 "nbformat_minor": 4
}
